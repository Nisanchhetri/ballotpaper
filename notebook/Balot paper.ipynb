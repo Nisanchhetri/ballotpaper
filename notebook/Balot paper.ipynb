{
  "nbformat": 4,
  "nbformat_minor": 0,
  "metadata": {
    "colab": {
      "name": "Ballot paper.ipynb",
      "provenance": [],
      "collapsed_sections": [
        "y1NRgAnyNgIw",
        "P4UnQYlfNspI",
        "--GlLpjsDOu1",
        "RtMVBrfSPAVn",
        "SgcrGqRaQChI",
        "ztHnzSc4S-GL",
        "5HuG8BzeUqkz",
        "NPbhUeQOVCY4",
        "qLQV6AAWciLV",
        "DwiDzBlRefGF",
        "E4oV7CtrBklD",
        "1vKrXmjidqvl",
        "DeJajiH-UDdw",
        "I8rZMfufAFGP",
        "ou6FQ9__AR5m",
        "db7dXmlaA3aR"
      ],
      "toc_visible": true
    },
    "kernelspec": {
      "name": "python3",
      "display_name": "Python 3"
    },
    "accelerator": "GPU"
  },
  "cells": [
    {
      "cell_type": "markdown",
      "metadata": {
        "id": "ol7iO4xVitXA",
        "colab_type": "text"
      },
      "source": [
        "## Introduction\n",
        "The name of this project is Ballot paper classification. In this project, our task is to classify the ballot paper to one of the 48 classes where each label represents each political party. We have two seperate datasets for train and test. \n",
        "\n"
      ]
    },
    {
      "cell_type": "markdown",
      "metadata": {
        "id": "y1NRgAnyNgIw",
        "colab_type": "text"
      },
      "source": [
        "## Import libraries\n",
        "Let's import some important libraries we will be using throughout this project."
      ]
    },
    {
      "cell_type": "code",
      "metadata": {
        "id": "Q8uGlNTziaax",
        "colab_type": "code",
        "colab": {}
      },
      "source": [
        "import numpy as np\n",
        "import pandas as pd\n",
        "import matplotlib.pyplot as plt\n",
        "\n",
        "import tensorflow as tf\n",
        "from tensorflow.keras.models import Sequential\n",
        "from tensorflow.keras.layers import Dense, Dropout, Flatten\n",
        "from tensorflow.keras.layers import Conv2D, MaxPooling2D, GlobalAveragePooling2D\n",
        "from tensorflow.keras.utils import to_categorical\n",
        "from tensorflow.keras.preprocessing import image\n",
        "\n",
        "from tensorflow.keras.models import Model\n",
        "\n",
        "%matplotlib inline"
      ],
      "execution_count": 0,
      "outputs": []
    },
    {
      "cell_type": "markdown",
      "metadata": {
        "id": "P4UnQYlfNspI",
        "colab_type": "text"
      },
      "source": [
        "## Mount drive\n",
        "Since, our dataset is very huge. So, we need to mount our drive for uploading dataset to our current directory."
      ]
    },
    {
      "cell_type": "code",
      "metadata": {
        "id": "Y2UayQ1wehsR",
        "colab_type": "code",
        "outputId": "ddb8105b-3b12-45ff-b011-16ffef159d8e",
        "colab": {
          "base_uri": "https://localhost:8080/",
          "height": 54
        }
      },
      "source": [
        "from google.colab import drive\n",
        "drive.mount('/content/drive')"
      ],
      "execution_count": 2,
      "outputs": [
        {
          "output_type": "stream",
          "text": [
            "Drive already mounted at /content/drive; to attempt to forcibly remount, call drive.mount(\"/content/drive\", force_remount=True).\n"
          ],
          "name": "stdout"
        }
      ]
    },
    {
      "cell_type": "code",
      "metadata": {
        "id": "AUiKQT7hgM1q",
        "colab_type": "code",
        "colab": {}
      },
      "source": [
        "# Path to My Drive\n",
        "drive_path = 'drive/My Drive/'"
      ],
      "execution_count": 0,
      "outputs": []
    },
    {
      "cell_type": "markdown",
      "metadata": {
        "id": "--GlLpjsDOu1",
        "colab_type": "text"
      },
      "source": [
        "## Preparing dataset"
      ]
    },
    {
      "cell_type": "markdown",
      "metadata": {
        "id": "Y7VfR0plOD-q",
        "colab_type": "text"
      },
      "source": [
        "Let's create `train` and `test` folders for loading the dataset."
      ]
    },
    {
      "cell_type": "code",
      "metadata": {
        "id": "aEMPmryqYWPq",
        "colab_type": "code",
        "colab": {}
      },
      "source": [
        "# Creating directory for train and test \n",
        "!mkdir train\n",
        "!mkdir test"
      ],
      "execution_count": 0,
      "outputs": []
    },
    {
      "cell_type": "code",
      "metadata": {
        "id": "yNpd4MgITtyj",
        "colab_type": "code",
        "colab": {}
      },
      "source": [
        "# Unzipping Train file in train folder\n",
        "!tar -xf drive/My\\ Drive/Train.tar.gz -C train"
      ],
      "execution_count": 0,
      "outputs": []
    },
    {
      "cell_type": "code",
      "metadata": {
        "id": "p1ttj6aiYN9g",
        "colab_type": "code",
        "colab": {}
      },
      "source": [
        "# Unzipping Train file in train folder\n",
        "!tar -xf drive/My\\ Drive/Test.tar.gz -C test"
      ],
      "execution_count": 0,
      "outputs": []
    },
    {
      "cell_type": "markdown",
      "metadata": {
        "id": "fNJTz6FAPnzA",
        "colab_type": "text"
      },
      "source": [
        "Great! Let's see whether data has been loaded or not with following commands."
      ]
    },
    {
      "cell_type": "code",
      "metadata": {
        "id": "1-0StBwXV8AV",
        "colab_type": "code",
        "outputId": "f2fc473d-f3b7-4c07-e3c3-a580fe7b71d5",
        "colab": {
          "base_uri": "https://localhost:8080/",
          "height": 34
        }
      },
      "source": [
        "# number of images in the training set\n",
        "!ls train/testset | wc -l"
      ],
      "execution_count": 0,
      "outputs": [
        {
          "output_type": "stream",
          "text": [
            "9600\n"
          ],
          "name": "stdout"
        }
      ]
    },
    {
      "cell_type": "code",
      "metadata": {
        "id": "Az_XpG2EV84x",
        "colab_type": "code",
        "outputId": "5501690d-f835-40d7-db16-3e8fe0503c7a",
        "colab": {
          "base_uri": "https://localhost:8080/",
          "height": 34
        }
      },
      "source": [
        "# number of images in the testing set\n",
        "!ls test/testset | wc -l"
      ],
      "execution_count": 0,
      "outputs": [
        {
          "output_type": "stream",
          "text": [
            "2609\n"
          ],
          "name": "stdout"
        }
      ]
    },
    {
      "cell_type": "code",
      "metadata": {
        "id": "W4Ui3KIWgY6x",
        "colab_type": "code",
        "colab": {}
      },
      "source": [
        "# Path to train and test images\n",
        "TRAIN_DATA_PATH = 'train/testset'\n",
        "TEST_DATA_PATH = 'test/testset'"
      ],
      "execution_count": 0,
      "outputs": []
    },
    {
      "cell_type": "code",
      "metadata": {
        "id": "4-Iiv24pgso-",
        "colab_type": "code",
        "colab": {}
      },
      "source": [
        "# Path to train and test csv files\n",
        "TRAIN_CSV_PATH = 'train/testset.csv'\n",
        "TEST_CSV_PATH = 'test/testset.csv'"
      ],
      "execution_count": 0,
      "outputs": []
    },
    {
      "cell_type": "markdown",
      "metadata": {
        "id": "RtMVBrfSPAVn",
        "colab_type": "text"
      },
      "source": [
        "## Load dataset\n",
        "Now, let's load the `csv` dataset of train and test folders.\n"
      ]
    },
    {
      "cell_type": "code",
      "metadata": {
        "id": "PxwZwJb_hFUW",
        "colab_type": "code",
        "colab": {}
      },
      "source": [
        "import pandas as pd\n",
        "import numpy as np\n",
        "\n",
        "df_train = pd.read_csv(TRAIN_CSV_PATH, dtype=str) # Load train dataframe\n",
        "df_test = pd.read_csv(TEST_CSV_PATH, dtype=str) # Load test dataframe"
      ],
      "execution_count": 0,
      "outputs": []
    },
    {
      "cell_type": "markdown",
      "metadata": {
        "id": "SgcrGqRaQChI",
        "colab_type": "text"
      },
      "source": [
        "## Data visualisation\n",
        "Let's analyse our datasets."
      ]
    },
    {
      "cell_type": "code",
      "metadata": {
        "id": "taa1A8JvV4y1",
        "colab_type": "code",
        "outputId": "c17e2e08-3f0b-4a46-f724-7116c735c815",
        "colab": {
          "base_uri": "https://localhost:8080/",
          "height": 204
        }
      },
      "source": [
        "df_train.head()"
      ],
      "execution_count": 0,
      "outputs": [
        {
          "output_type": "execute_result",
          "data": {
            "text/html": [
              "<div>\n",
              "<style scoped>\n",
              "    .dataframe tbody tr th:only-of-type {\n",
              "        vertical-align: middle;\n",
              "    }\n",
              "\n",
              "    .dataframe tbody tr th {\n",
              "        vertical-align: top;\n",
              "    }\n",
              "\n",
              "    .dataframe thead th {\n",
              "        text-align: right;\n",
              "    }\n",
              "</style>\n",
              "<table border=\"1\" class=\"dataframe\">\n",
              "  <thead>\n",
              "    <tr style=\"text-align: right;\">\n",
              "      <th></th>\n",
              "      <th>Data</th>\n",
              "      <th>Label</th>\n",
              "    </tr>\n",
              "  </thead>\n",
              "  <tbody>\n",
              "    <tr>\n",
              "      <th>0</th>\n",
              "      <td>600795.jpeg</td>\n",
              "      <td>10</td>\n",
              "    </tr>\n",
              "    <tr>\n",
              "      <th>1</th>\n",
              "      <td>627152.jpeg</td>\n",
              "      <td>10</td>\n",
              "    </tr>\n",
              "    <tr>\n",
              "      <th>2</th>\n",
              "      <td>119963.jpeg</td>\n",
              "      <td>10</td>\n",
              "    </tr>\n",
              "    <tr>\n",
              "      <th>3</th>\n",
              "      <td>118264.jpeg</td>\n",
              "      <td>10</td>\n",
              "    </tr>\n",
              "    <tr>\n",
              "      <th>4</th>\n",
              "      <td>199420.jpeg</td>\n",
              "      <td>10</td>\n",
              "    </tr>\n",
              "  </tbody>\n",
              "</table>\n",
              "</div>"
            ],
            "text/plain": [
              "          Data Label\n",
              "0  600795.jpeg    10\n",
              "1  627152.jpeg    10\n",
              "2  119963.jpeg    10\n",
              "3  118264.jpeg    10\n",
              "4  199420.jpeg    10"
            ]
          },
          "metadata": {
            "tags": []
          },
          "execution_count": 12
        }
      ]
    },
    {
      "cell_type": "code",
      "metadata": {
        "id": "bWJLDRTU31N4",
        "colab_type": "code",
        "outputId": "fcca149d-0232-4fd8-e674-5ba9152823aa",
        "colab": {
          "base_uri": "https://localhost:8080/",
          "height": 170
        }
      },
      "source": [
        "df_train.info()"
      ],
      "execution_count": 0,
      "outputs": [
        {
          "output_type": "stream",
          "text": [
            "<class 'pandas.core.frame.DataFrame'>\n",
            "RangeIndex: 9600 entries, 0 to 9599\n",
            "Data columns (total 2 columns):\n",
            " #   Column  Non-Null Count  Dtype \n",
            "---  ------  --------------  ----- \n",
            " 0   Data    9600 non-null   object\n",
            " 1   Label   9600 non-null   object\n",
            "dtypes: object(2)\n",
            "memory usage: 150.1+ KB\n"
          ],
          "name": "stdout"
        }
      ]
    },
    {
      "cell_type": "code",
      "metadata": {
        "id": "_V2O8fbgQ7Ff",
        "colab_type": "code",
        "outputId": "0826c263-c47b-4dc7-9c97-9f3145725368",
        "colab": {
          "base_uri": "https://localhost:8080/",
          "height": 204
        }
      },
      "source": [
        "df_test.head()"
      ],
      "execution_count": 0,
      "outputs": [
        {
          "output_type": "execute_result",
          "data": {
            "text/html": [
              "<div>\n",
              "<style scoped>\n",
              "    .dataframe tbody tr th:only-of-type {\n",
              "        vertical-align: middle;\n",
              "    }\n",
              "\n",
              "    .dataframe tbody tr th {\n",
              "        vertical-align: top;\n",
              "    }\n",
              "\n",
              "    .dataframe thead th {\n",
              "        text-align: right;\n",
              "    }\n",
              "</style>\n",
              "<table border=\"1\" class=\"dataframe\">\n",
              "  <thead>\n",
              "    <tr style=\"text-align: right;\">\n",
              "      <th></th>\n",
              "      <th>Data</th>\n",
              "      <th>Label</th>\n",
              "    </tr>\n",
              "  </thead>\n",
              "  <tbody>\n",
              "    <tr>\n",
              "      <th>0</th>\n",
              "      <td>632755.jpeg</td>\n",
              "      <td>10</td>\n",
              "    </tr>\n",
              "    <tr>\n",
              "      <th>1</th>\n",
              "      <td>496855.jpeg</td>\n",
              "      <td>10</td>\n",
              "    </tr>\n",
              "    <tr>\n",
              "      <th>2</th>\n",
              "      <td>155390.jpeg</td>\n",
              "      <td>10</td>\n",
              "    </tr>\n",
              "    <tr>\n",
              "      <th>3</th>\n",
              "      <td>265013.jpeg</td>\n",
              "      <td>10</td>\n",
              "    </tr>\n",
              "    <tr>\n",
              "      <th>4</th>\n",
              "      <td>496360.jpeg</td>\n",
              "      <td>10</td>\n",
              "    </tr>\n",
              "  </tbody>\n",
              "</table>\n",
              "</div>"
            ],
            "text/plain": [
              "          Data Label\n",
              "0  632755.jpeg    10\n",
              "1  496855.jpeg    10\n",
              "2  155390.jpeg    10\n",
              "3  265013.jpeg    10\n",
              "4  496360.jpeg    10"
            ]
          },
          "metadata": {
            "tags": []
          },
          "execution_count": 14
        }
      ]
    },
    {
      "cell_type": "code",
      "metadata": {
        "id": "rYBab-_YRAh8",
        "colab_type": "code",
        "outputId": "9c34400b-c2e2-4d29-9d83-02ff0351f68a",
        "colab": {
          "base_uri": "https://localhost:8080/",
          "height": 170
        }
      },
      "source": [
        "df_test.info()"
      ],
      "execution_count": 0,
      "outputs": [
        {
          "output_type": "stream",
          "text": [
            "<class 'pandas.core.frame.DataFrame'>\n",
            "RangeIndex: 2609 entries, 0 to 2608\n",
            "Data columns (total 2 columns):\n",
            " #   Column  Non-Null Count  Dtype \n",
            "---  ------  --------------  ----- \n",
            " 0   Data    2609 non-null   object\n",
            " 1   Label   2609 non-null   object\n",
            "dtypes: object(2)\n",
            "memory usage: 40.9+ KB\n"
          ],
          "name": "stdout"
        }
      ]
    },
    {
      "cell_type": "markdown",
      "metadata": {
        "id": "t_UZ8hrYROgw",
        "colab_type": "text"
      },
      "source": [
        "From above cells, we knew that our train set has 9600 rows and test set has 2609 columns, and each has two columns `Data` and `Label`."
      ]
    },
    {
      "cell_type": "markdown",
      "metadata": {
        "id": "e0TWmX_GQWd0",
        "colab_type": "text"
      },
      "source": [
        "The following cell stores unique columns and it's count in the `Label` column."
      ]
    },
    {
      "cell_type": "code",
      "metadata": {
        "id": "4GXqBYxoo7bU",
        "colab_type": "code",
        "colab": {}
      },
      "source": [
        "labels = df_train['Label'].unique()\n",
        "labels_values = df_train['Label'].values \n",
        "values = []\n",
        "for label in labels:\n",
        "    count = 0\n",
        "    for value in labels_values:\n",
        "        if label == value:\n",
        "            count += 1\n",
        "    values.append(count)\n",
        "df_train_count = pd.DataFrame({'Labels': labels, 'Frequency': values})"
      ],
      "execution_count": 0,
      "outputs": []
    },
    {
      "cell_type": "code",
      "metadata": {
        "id": "tgcDH8wv5uBT",
        "colab_type": "code",
        "outputId": "d8e70ac5-304e-4141-ab92-390f9488c5f2",
        "colab": {
          "base_uri": "https://localhost:8080/",
          "height": 568
        }
      },
      "source": [
        "import seaborn as sns\n",
        "\n",
        "fig_dims = (12, 8)\n",
        "fig, ax = plt.subplots(figsize=fig_dims)\n",
        "\n",
        "sns.barplot(x='Labels', y='Frequency', data=df_train_count, ax=ax) # Plotting unique label counts"
      ],
      "execution_count": 0,
      "outputs": [
        {
          "output_type": "stream",
          "text": [
            "/usr/local/lib/python3.6/dist-packages/statsmodels/tools/_testing.py:19: FutureWarning: pandas.util.testing is deprecated. Use the functions in the public API at pandas.testing instead.\n",
            "  import pandas.util.testing as tm\n"
          ],
          "name": "stderr"
        },
        {
          "output_type": "execute_result",
          "data": {
            "text/plain": [
              "<matplotlib.axes._subplots.AxesSubplot at 0x7f00842fb3c8>"
            ]
          },
          "metadata": {
            "tags": []
          },
          "execution_count": 17
        },
        {
          "output_type": "display_data",
          "data": {
            "image/png": "[encoded data removed]",
            "text/plain": [
              "<Figure size 864x576 with 1 Axes>"
            ]
          },
          "metadata": {
            "tags": [],
            "needs_background": "light"
          }
        }
      ]
    },
    {
      "cell_type": "markdown",
      "metadata": {
        "id": "AHk3_a4GSG0w",
        "colab_type": "text"
      },
      "source": [
        "From above plot, we can see that our train dataset has perfectly balanced labels. Now, let's see in the test set."
      ]
    },
    {
      "cell_type": "code",
      "metadata": {
        "colab_type": "code",
        "id": "EtwKNnebR32Y",
        "colab": {}
      },
      "source": [
        "labels = df_test['Label'].unique()\n",
        "labels_values = df_test['Label'].values \n",
        "values = []\n",
        "for label in labels:\n",
        "    count = 0\n",
        "    for value in labels_values:\n",
        "        if label == value:\n",
        "            count += 1\n",
        "    values.append(count)\n",
        "df_test_count = pd.DataFrame({'Labels': labels, 'Frequency': values})"
      ],
      "execution_count": 0,
      "outputs": []
    },
    {
      "cell_type": "code",
      "metadata": {
        "colab_type": "code",
        "outputId": "59a99bc2-1920-4598-b40a-d43827ed0b96",
        "id": "3QkeLcFaR32d",
        "colab": {
          "base_uri": "https://localhost:8080/",
          "height": 514
        }
      },
      "source": [
        "import seaborn as sns\n",
        "\n",
        "fig_dims = (12, 8)\n",
        "fig, ax = plt.subplots(figsize=fig_dims)\n",
        "\n",
        "sns.barplot(x='Labels', y='Frequency', data=df_test_count, ax=ax) # Plotting unique label counts"
      ],
      "execution_count": 0,
      "outputs": [
        {
          "output_type": "execute_result",
          "data": {
            "text/plain": [
              "<matplotlib.axes._subplots.AxesSubplot at 0x7f0083c407b8>"
            ]
          },
          "metadata": {
            "tags": []
          },
          "execution_count": 19
        },
        {
          "output_type": "display_data",
          "data": {
            "image/png": "[encoded data removed]",
            "text/plain": [
              "<Figure size 864x576 with 1 Axes>"
            ]
          },
          "metadata": {
            "tags": [],
            "needs_background": "light"
          }
        }
      ]
    },
    {
      "cell_type": "markdown",
      "metadata": {
        "id": "jkfzjOsqShhM",
        "colab_type": "text"
      },
      "source": [
        "Not perfect as train set, right? We have to be very careful while building our model because of this imbalance in the test data."
      ]
    },
    {
      "cell_type": "markdown",
      "metadata": {
        "id": "ztHnzSc4S-GL",
        "colab_type": "text"
      },
      "source": [
        "## Data generation and augmentation\n",
        "Since, we are working on image dataset. So, storing all the images at a time will drain our memory and may kill our system. Therefore, we need to generate the image data in batch wise while training. For this, we have nice method called, `ImageDataGenerator` from `keras.preprocessing.image` library. Let's see how it works."
      ]
    },
    {
      "cell_type": "code",
      "metadata": {
        "id": "VBuy83dbTt-i",
        "colab_type": "code",
        "outputId": "49c250dc-28ca-4559-e915-d5c9bf9ec493",
        "colab": {
          "base_uri": "https://localhost:8080/",
          "height": 68
        }
      },
      "source": [
        "from tensorflow.keras.preprocessing.image import ImageDataGenerator\n",
        "\n",
        "# Augmented for train_set\n",
        "train_datagen = ImageDataGenerator(\n",
        "        preprocessing_function=lambda x: (x/127.5) - 1.0,\n",
        "        validation_split=0.2,\n",
        "        shear_range=0.2,\n",
        "        zoom_range=0.2\n",
        "        )\n",
        "\n",
        "test_datagen = ImageDataGenerator(\n",
        "        preprocessing_function=lambda x: (x/127.5) - 1.0\n",
        "        )\n",
        "\n",
        "train_generator = train_datagen.flow_from_dataframe(\n",
        "        dataframe=df_train, \n",
        "        directory=TRAIN_DATA_PATH,\n",
        "        x_col=\"Data\",\n",
        "        y_col=\"Label\",\n",
        "        subset='training',\n",
        "        class_mode=\"categorical\",\n",
        "        target_size=(150,150),\n",
        "        batch_size=32\n",
        "        )\n",
        "\n",
        "valid_generator = train_datagen.flow_from_dataframe(\n",
        "        dataframe=df_train, \n",
        "        directory=TRAIN_DATA_PATH,\n",
        "        x_col=\"Data\",\n",
        "        y_col=\"Label\",\n",
        "        subset='validation',\n",
        "        class_mode=\"categorical\",\n",
        "        target_size=(150,150),\n",
        "        batch_size=32\n",
        "        )\n",
        "\n",
        "test_generator = test_datagen.flow_from_dataframe(\n",
        "        dataframe=df_test,\n",
        "        directory=TEST_DATA_PATH,\n",
        "        x_col='Data',\n",
        "        y_col='Label',\n",
        "        class_mode='categorical',\n",
        "        target_size=(150, 150),\n",
        "        batch_size=32\n",
        "        )"
      ],
      "execution_count": 17,
      "outputs": [
        {
          "output_type": "stream",
          "text": [
            "Found 7680 validated image filenames belonging to 48 classes.\n",
            "Found 1920 validated image filenames belonging to 48 classes.\n",
            "Found 2609 validated image filenames belonging to 48 classes.\n"
          ],
          "name": "stdout"
        }
      ]
    },
    {
      "cell_type": "markdown",
      "metadata": {
        "id": "kYpTxcYcTw2U",
        "colab_type": "text"
      },
      "source": [
        "## Model selection\n",
        "Here, we are selecting the pretrained models from `keras.applications` library."
      ]
    },
    {
      "cell_type": "markdown",
      "metadata": {
        "id": "5HuG8BzeUqkz",
        "colab_type": "text"
      },
      "source": [
        "### InceptionNet Model"
      ]
    },
    {
      "cell_type": "code",
      "metadata": {
        "id": "Tne1cTmuF5nX",
        "colab_type": "code",
        "colab": {
          "base_uri": "https://localhost:8080/",
          "height": 71
        },
        "outputId": "5e2202fb-4250-4319-8869-d9fe664e9fdc"
      },
      "source": [
        "from tensorflow.keras.applications.inception_v3 import InceptionV3\n",
        "\n",
        "inception_model = InceptionV3(include_top = False, weights='imagenet')"
      ],
      "execution_count": 13,
      "outputs": [
        {
          "output_type": "stream",
          "text": [
            "Downloading data from https://storage.googleapis.com/tensorflow/keras-applications/inception_v3/inception_v3_weights_tf_dim_ordering_tf_kernels_notop.h5\n",
            "87916544/87910968 [==============================] - 2s 0us/step\n"
          ],
          "name": "stdout"
        }
      ]
    },
    {
      "cell_type": "code",
      "metadata": {
        "id": "HTweUID7GEfu",
        "colab_type": "code",
        "colab": {}
      },
      "source": [
        "from tensorflow.keras.layers import GlobalAveragePooling2D\n",
        "from tensorflow.keras.models import Model\n",
        "\n",
        "# Freezing all pretrained layers\n",
        "# inception_model.trainable = False\n",
        "\n",
        "# Replacing new layers with fully connected layers\n",
        "inception_feature = inception_model.output\n",
        "inception_feature = GlobalAveragePooling2D()(inception_feature)\n",
        "inception_feature = Dense(512, activation='relu')(inception_feature)\n",
        "inception_feature = Dense(512, activation='relu')(inception_feature)\n",
        "output_layer = Dense(48, activation='softmax')(inception_feature)\n",
        "\n",
        "# Creating new model with all above configuration\n",
        "inception_model = Model(inputs=inception_model.input, outputs=output_layer)\n",
        "\n",
        "# Compiling the model with different arguments\n",
        "inception_model.compile(optimizer='rmsprop', loss='categorical_crossentropy', metrics=['accuracy'])"
      ],
      "execution_count": 0,
      "outputs": []
    },
    {
      "cell_type": "markdown",
      "metadata": {
        "id": "NPbhUeQOVCY4",
        "colab_type": "text"
      },
      "source": [
        "### MobileNet model\n",
        "\n"
      ]
    },
    {
      "cell_type": "code",
      "metadata": {
        "id": "rAzuqmU7VGfp",
        "colab_type": "code",
        "outputId": "ccdb6c63-7054-4677-8d70-31ce7db474a8",
        "colab": {
          "base_uri": "https://localhost:8080/",
          "height": 88
        }
      },
      "source": [
        "# Importing the MobileNetV2 model\n",
        "from tensorflow.keras.applications.mobilenet import MobileNet \n",
        "\n",
        "# Initializing the model\n",
        "mobile_model = MobileNet(include_top=False, weights='imagenet')"
      ],
      "execution_count": 15,
      "outputs": [
        {
          "output_type": "stream",
          "text": [
            "WARNING:tensorflow:`input_shape` is undefined or non-square, or `rows` is not in [128, 160, 192, 224]. Weights for input shape (224, 224) will be loaded as the default.\n",
            "Downloading data from https://storage.googleapis.com/tensorflow/keras-applications/mobilenet/mobilenet_1_0_224_tf_no_top.h5\n",
            "17227776/17225924 [==============================] - 0s 0us/step\n"
          ],
          "name": "stdout"
        }
      ]
    },
    {
      "cell_type": "code",
      "metadata": {
        "id": "WvOYW68vWJUZ",
        "colab_type": "code",
        "colab": {}
      },
      "source": [
        "# Freezing all the pretrained layers\n",
        "# for layers in mobile_model.layers:\n",
        "#     layers.trainable = False\n",
        "\n",
        "# Replacing new layers with fully connected layers\n",
        "mobile_feature = mobile_model.output\n",
        "mobile_feature = GlobalAveragePooling2D()(mobile_feature)\n",
        "mobile_feature = Dense(1024, activation='relu')(mobile_feature)\n",
        "mobile_feature = Dense(512, activation='relu')(mobile_feature)\n",
        "mobile_feature = Dense(512, activation='relu')(mobile_feature)\n",
        "output_layer = Dense(48, activation='softmax')(mobile_feature)\n",
        "\n",
        "# Creating new model with all above configuration\n",
        "mobile_model = Model(inputs=mobile_model.input, outputs=output_layer)\n",
        "\n",
        "# Compiling the model with different arguments\n",
        "mobile_model.compile(optimizer='adam', loss='categorical_crossentropy', metrics=['accuracy'])"
      ],
      "execution_count": 0,
      "outputs": []
    },
    {
      "cell_type": "markdown",
      "metadata": {
        "colab_type": "text",
        "id": "qLQV6AAWciLV"
      },
      "source": [
        "### DenseNet121 model\n",
        "\n"
      ]
    },
    {
      "cell_type": "code",
      "metadata": {
        "colab_type": "code",
        "id": "sSzz1e7iciLX",
        "colab": {
          "base_uri": "https://localhost:8080/",
          "height": 71
        },
        "outputId": "ff46e985-48bd-4b33-d5fd-500bfb3aa921"
      },
      "source": [
        "# Importing the MobileNetV2 model\n",
        "from tensorflow.keras.applications import DenseNet121 \n",
        "\n",
        "# Initializing the model\n",
        "dense_model = DenseNet121(input_shape=(150, 150, 3),\n",
        "                           include_top=False,\n",
        "                           weights='imagenet')"
      ],
      "execution_count": 18,
      "outputs": [
        {
          "output_type": "stream",
          "text": [
            "Downloading data from https://storage.googleapis.com/tensorflow/keras-applications/densenet/densenet121_weights_tf_dim_ordering_tf_kernels_notop.h5\n",
            "29089792/29084464 [==============================] - 0s 0us/step\n"
          ],
          "name": "stdout"
        }
      ]
    },
    {
      "cell_type": "code",
      "metadata": {
        "colab_type": "code",
        "id": "xnW3vL8vciLd",
        "colab": {}
      },
      "source": [
        "# Freezing all the pretrained layers\n",
        "# dense_model.trainable = False\n",
        "\n",
        "# Replacing new layers with fully connected layers\n",
        "dense_feature = dense_model.output\n",
        "dense_feature = GlobalAveragePooling2D()(dense_feature)\n",
        "# dense_feature = Dense(1024, activation='relu')(dense_feature)\n",
        "# dense_feature = Dense(512, activation='relu')(dense_feature)\n",
        "dense_feature = Dense(512, activation='relu')(dense_feature)\n",
        "output_layer = Dense(48, activation='softmax')(dense_feature)\n",
        "\n",
        "# Creating new model with all above configuration\n",
        "dense_model = Model(inputs=dense_model.input, outputs=output_layer)\n",
        "\n",
        "# Compiling the model with different arguments\n",
        "dense_model.compile(optimizer='adam', loss='categorical_crossentropy', metrics=['accuracy'])"
      ],
      "execution_count": 0,
      "outputs": []
    },
    {
      "cell_type": "markdown",
      "metadata": {
        "id": "DwiDzBlRefGF",
        "colab_type": "text"
      },
      "source": [
        "### Simple CNN model\n"
      ]
    },
    {
      "cell_type": "code",
      "metadata": {
        "id": "-gsZavFOReTe",
        "colab_type": "code",
        "colab": {}
      },
      "source": [
        "simple_model = Sequential()\n",
        "\n",
        "simple_model.add(Conv2D(32, kernel_size=5, strides=2, activation='relu', input_shape=(150, 150, 3)))\n",
        "simple_model.add(Conv2D(64, kernel_size=3, strides=1, activation='relu'))\n",
        "\n",
        "simple_model.add(Flatten())\n",
        "\n",
        "simple_model.add(Dense(128, activation='relu'))\n",
        "simple_model.add(Dense(48, activation='softmax'))\n",
        "\n",
        "simple_model.compile(loss='categorical_crossentropy', optimizer='adam', metrics=['accuracy'])"
      ],
      "execution_count": 0,
      "outputs": []
    },
    {
      "cell_type": "markdown",
      "metadata": {
        "id": "E4oV7CtrBklD",
        "colab_type": "text"
      },
      "source": [
        "### Generating model summary diagram\n",
        "Let's visualize how above simple CNN looks like in the flow chart diagram form."
      ]
    },
    {
      "cell_type": "code",
      "metadata": {
        "id": "JurL6bAsrdSI",
        "colab_type": "code",
        "outputId": "97cf66cd-c342-407a-c1d3-4dcbcef61625",
        "colab": {
          "base_uri": "https://localhost:8080/",
          "height": 644
        }
      },
      "source": [
        "from tensorflow.keras.utils import plot_model\n",
        "\n",
        "plot_model(\n",
        "    simple_model,\n",
        "    to_file='simple_cnn_model.png',\n",
        "    show_shapes=True,\n",
        "    show_layer_names=True\n",
        "    )"
      ],
      "execution_count": 0,
      "outputs": [
        {
          "output_type": "execute_result",
          "data": {
            "image/png": "[encoded data removed]",
            "text/plain": [
              "<IPython.core.display.Image object>"
            ]
          },
          "metadata": {
            "tags": []
          },
          "execution_count": 126
        }
      ]
    },
    {
      "cell_type": "markdown",
      "metadata": {
        "id": "1vKrXmjidqvl",
        "colab_type": "text"
      },
      "source": [
        "### Custom CNN Model\n"
      ]
    },
    {
      "cell_type": "code",
      "metadata": {
        "id": "Z4VCK98-yQLN",
        "colab_type": "code",
        "colab": {}
      },
      "source": [
        "cnn_model = Sequential()\n",
        "cnn_model.add(Conv2D(filters=16, kernel_size=(5, 5), activation=\"relu\", input_shape=(150, 150, 3)))\n",
        "cnn_model.add(MaxPooling2D(pool_size=(2, 2)))\n",
        "cnn_model.add(Dropout(0.25))\n",
        "cnn_model.add(Conv2D(filters=32, kernel_size=(5, 5), activation='relu'))\n",
        "cnn_model.add(MaxPooling2D(pool_size=(2, 2)))\n",
        "cnn_model.add(Dropout(0.25))\n",
        "cnn_model.add(Conv2D(filters=64, kernel_size=(5, 5), activation=\"relu\"))\n",
        "cnn_model.add(MaxPooling2D(pool_size=(2, 2)))\n",
        "cnn_model.add(Dropout(0.25))\n",
        "cnn_model.add(Conv2D(filters=64, kernel_size=(5, 5), activation='relu'))\n",
        "cnn_model.add(MaxPooling2D(pool_size=(2, 2)))\n",
        "cnn_model.add(Dropout(0.25))\n",
        "cnn_model.add(Flatten())\n",
        "cnn_model.add(Dense(128, activation='relu'))\n",
        "cnn_model.add(Dropout(0.5))\n",
        "cnn_model.add(Dense(64, activation='relu'))\n",
        "cnn_model.add(Dropout(0.5))\n",
        "cnn_model.add(Dense(48, activation='softmax'))\n",
        "\n",
        "cnn_model.compile(optimizer='adam', loss='categorical_crossentropy', metrics=['accuracy'])"
      ],
      "execution_count": 0,
      "outputs": []
    },
    {
      "cell_type": "code",
      "metadata": {
        "id": "P2j9hplZvGox",
        "colab_type": "code",
        "colab": {}
      },
      "source": [
        ""
      ],
      "execution_count": 0,
      "outputs": []
    },
    {
      "cell_type": "markdown",
      "metadata": {
        "id": "DeJajiH-UDdw",
        "colab_type": "text"
      },
      "source": [
        "## Fit the model"
      ]
    },
    {
      "cell_type": "code",
      "metadata": {
        "id": "BseGtohpRYji",
        "colab_type": "code",
        "colab": {
          "base_uri": "https://localhost:8080/",
          "height": 275
        },
        "outputId": "b42ad095-6ab3-4ae5-dde1-24eb53716063"
      },
      "source": [
        "TRAIN_STEP = train_generator.n // train_generator.batch_size\n",
        "VALID_STEP = valid_generator.n // valid_generator.batch_size\n",
        "\n",
        "mobile_model.fit_generator(\n",
        "      train_generator,\n",
        "      steps_per_epoch=TRAIN_STEP,\n",
        "      epochs=5,\n",
        "      validation_data=valid_generator,\n",
        "      validation_steps=VALID_STEP\n",
        "    )"
      ],
      "execution_count": 21,
      "outputs": [
        {
          "output_type": "stream",
          "text": [
            "WARNING:tensorflow:From <ipython-input-21-f18af9d973af>:9: Model.fit_generator (from tensorflow.python.keras.engine.training) is deprecated and will be removed in a future version.\n",
            "Instructions for updating:\n",
            "Please use Model.fit, which supports generators.\n",
            "Epoch 1/5\n",
            "240/240 [==============================] - 87s 364ms/step - loss: 3.6925 - accuracy: 0.0365 - val_loss: 18.5378 - val_accuracy: 0.0000e+00\n",
            "Epoch 2/5\n",
            "240/240 [==============================] - 86s 357ms/step - loss: 0.9512 - accuracy: 0.6901 - val_loss: 32.4610 - val_accuracy: 0.0151\n",
            "Epoch 3/5\n",
            "240/240 [==============================] - 86s 356ms/step - loss: 0.1519 - accuracy: 0.9617 - val_loss: 33.4508 - val_accuracy: 0.0599\n",
            "Epoch 4/5\n",
            "240/240 [==============================] - 86s 357ms/step - loss: 0.1398 - accuracy: 0.9672 - val_loss: 29.1630 - val_accuracy: 0.0620\n",
            "Epoch 5/5\n",
            "240/240 [==============================] - 85s 354ms/step - loss: 0.1051 - accuracy: 0.9768 - val_loss: 25.7922 - val_accuracy: 0.0615\n"
          ],
          "name": "stdout"
        },
        {
          "output_type": "execute_result",
          "data": {
            "text/plain": [
              "<tensorflow.python.keras.callbacks.History at 0x7f1a8fc047f0>"
            ]
          },
          "metadata": {
            "tags": []
          },
          "execution_count": 21
        }
      ]
    },
    {
      "cell_type": "markdown",
      "metadata": {
        "id": "I8rZMfufAFGP",
        "colab_type": "text"
      },
      "source": [
        "## Model evaluation\n",
        "Now, let's evaluate our model accuracy in the test datasets.\n"
      ]
    },
    {
      "cell_type": "code",
      "metadata": {
        "id": "lqNlQ0AESTgB",
        "colab_type": "code",
        "colab": {
          "base_uri": "https://localhost:8080/",
          "height": 51
        },
        "outputId": "610e3f0e-47f5-4167-9869-d71c861677d5"
      },
      "source": [
        "mobile_model.evaluate(test_generator)"
      ],
      "execution_count": 22,
      "outputs": [
        {
          "output_type": "stream",
          "text": [
            "82/82 [==============================] - 11s 129ms/step - loss: 4.9265 - accuracy: 0.7919\n"
          ],
          "name": "stdout"
        },
        {
          "output_type": "execute_result",
          "data": {
            "text/plain": [
              "[4.926514148712158, 0.7918742895126343]"
            ]
          },
          "metadata": {
            "tags": []
          },
          "execution_count": 22
        }
      ]
    },
    {
      "cell_type": "markdown",
      "metadata": {
        "id": "ou6FQ9__AR5m",
        "colab_type": "text"
      },
      "source": [
        "## Save model\n",
        "We have successfully built the image classifier model with test accuracy of ~80%. Now, let's save the model for later use."
      ]
    },
    {
      "cell_type": "code",
      "metadata": {
        "id": "i4pUrh6cRXSK",
        "colab_type": "code",
        "colab": {}
      },
      "source": [
        "mobile_model.save('mobile_model.h5')"
      ],
      "execution_count": 0,
      "outputs": []
    },
    {
      "cell_type": "markdown",
      "metadata": {
        "id": "gHoGl1NZCTk8",
        "colab_type": "text"
      },
      "source": [
        "## Model prediction\n",
        "Now, we have a trained model. Now, let's check how correctly it classifies the images as follows."
      ]
    },
    {
      "cell_type": "code",
      "metadata": {
        "id": "h3woMz9txQL5",
        "colab_type": "code",
        "colab": {
          "base_uri": "https://localhost:8080/",
          "height": 34
        },
        "outputId": "2b758e00-4eb8-4b93-9094-eebb7890ddd4"
      },
      "source": [
        "# Taking 4th row of test data for prediction\n",
        "test_labels = df_test['Label'].values[4]\n",
        "images_name = [df_test['Data'].values[4]]\n",
        "\n",
        "image_list = []\n",
        "\n",
        "# Loading the image repect to label and transforming into array\n",
        "for i, image_name in enumerate(images_name):\n",
        "    img = image.load_img('test/testset/' + image_name, target_size=(150,150,3))\n",
        "    img = image.img_to_array(img)\n",
        "    img = img/255.\n",
        "    image_list.append(img)\n",
        "image_array = np.array(image_list)\n",
        "\n",
        "# Predict the image to it's label\n",
        "predicted_prob = mobile_model.predict(image_array)\n",
        "\n",
        "# Converting into actual label form\n",
        "predicted_labels = np.argmax(predicted_prob, axis=1)\n",
        "\n",
        "# Printing the accuracy between actual and predicted label\n",
        "print(test_labels, predicted_labels)"
      ],
      "execution_count": 29,
      "outputs": [
        {
          "output_type": "stream",
          "text": [
            "10 [0]\n"
          ],
          "name": "stdout"
        }
      ]
    },
    {
      "cell_type": "markdown",
      "metadata": {
        "id": "db7dXmlaA3aR",
        "colab_type": "text"
      },
      "source": [
        "## Model performance"
      ]
    },
    {
      "cell_type": "code",
      "metadata": {
        "id": "svTSqIl9sY88",
        "colab_type": "code",
        "outputId": "cd4ce355-dabd-449b-bb8c-0242cc73daf1",
        "colab": {
          "base_uri": "https://localhost:8080/",
          "height": 744
        }
      },
      "source": [
        "print(test_accuracy)\n",
        "import matplotlib.pyplot as plt\n",
        "\n",
        "plt.figure(figsize=(8, 5))\n",
        "plt.legend(fontsize=16)\n",
        "plt.xticks(fontsize=16)\n",
        "plt.yticks(fontsize=16)\n",
        "\n",
        "plt.plot(train_accuracy[0], linewidth=3)\n",
        "plt.plot(test_accuracy[0], linewidth=3)\n",
        "\n",
        "plt.title('model accuracy')\n",
        "plt.ylabel('accuracy')\n",
        "plt.xlabel('epoch')\n",
        "plt.legend(['train','test'], loc='upper left')\n",
        "plt.show()\n",
        "\n",
        "plt.figure(figsize=(8, 5))\n",
        "plt.legend(fontsize=16)\n",
        "plt.xticks(fontsize=16)\n",
        "plt.yticks(fontsize=16)\n",
        "\n",
        "plt.plot(train_losses[0], linewidth=3)\n",
        "plt.plot(test_losses[0], linewidth=3)\n",
        "\n",
        "plt.title('model loss')\n",
        "plt.ylabel('loss')\n",
        "plt.xlabel('epoch')\n",
        "plt.legend(['train','test'], loc='upper left')\n",
        "\n",
        "plt.show()"
      ],
      "execution_count": 0,
      "outputs": [
        {
          "output_type": "stream",
          "text": [
            "No handles with labels found to put in legend.\n"
          ],
          "name": "stderr"
        },
        {
          "output_type": "stream",
          "text": [
            "[[0.9425154328346252, 0.9363425970077515, 0.9591049551963806, 0.9938271641731262, 0.9907407164573669]]\n"
          ],
          "name": "stdout"
        },
        {
          "output_type": "display_data",
          "data": {
            "image/png": "[encoded data removed]",
            "text/plain": [
              "<Figure size 576x360 with 1 Axes>"
            ]
          },
          "metadata": {
            "tags": [],
            "needs_background": "light"
          }
        },
        {
          "output_type": "stream",
          "text": [
            "No handles with labels found to put in legend.\n"
          ],
          "name": "stderr"
        },
        {
          "output_type": "display_data",
          "data": {
            "image/png": "[encoded data removed]",
            "text/plain": [
              "<Figure size 576x360 with 1 Axes>"
            ]
          },
          "metadata": {
            "tags": [],
            "needs_background": "light"
          }
        }
      ]
    }
  ]
}